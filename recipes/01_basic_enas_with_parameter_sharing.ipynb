{
 "cells": [
  {
   "cell_type": "markdown",
   "metadata": {},
   "source": [
    "# Recipe 1: Basic ENAS with Parameter Sharing\n",
    "\n",
    "This notebook implements the core ENAS algorithm with parameter sharing for a simple convolutional neural network.\n",
    "\n",
    "## Imports and Setup"
   ]
  },
  {
   "cell_type": "code",
   "execution_count": 1,
   "metadata": {},
   "outputs": [],
   "source": [
    "import torch\n",
    "import torch.nn as nn\n",
    "import torch.optim as optim\n",
    "import numpy as np\n",
    "\n",
    "# Set random seed for reproducibility\n",
    "torch.manual_seed(42)\n",
    "np.random.seed(42)\n",
    "\n",
    "# Define constants\n",
    "NUM_LAYERS = 4\n",
    "NUM_OPS = 3  # relu, tanh, identity"
   ]
  },
  {
   "cell_type": "markdown",
   "metadata": {},
   "source": [
    "## Shared CNN Implementation"
   ]
  },
  {
   "cell_type": "code",
   "execution_count": 2,
   "metadata": {},
   "outputs": [],
   "source": [
    "class SharedCNN(nn.Module):\n",
    "    def __init__(self, input_channels, num_classes):\n",
    "        super().__init__()\n",
    "        self.input_conv = nn.Conv2d(input_channels, 16, 3, padding=1)\n",
    "        self.layers = nn.ModuleList([nn.Conv2d(16, 16, 3, padding=1) for _ in range(NUM_LAYERS)])\n",
    "        self.ops = nn.ModuleList([\n",
    "            nn.ReLU(),\n",
    "            nn.Tanh(),\n",
    "            nn.Identity()\n",
    "        ])\n",
    "        self.classifier = nn.Linear(16, num_classes)\n",
    "\n",
    "    def forward(self, x, actions):\n",
    "        x = self.input_conv(x)\n",
    "        for layer, action in zip(self.layers, actions):\n",
    "            x = layer(x)\n",
    "            x = self.ops[action](x)\n",
    "        x = x.mean([2, 3])\n",
    "        return self.classifier(x)"
   ]
  },
  {
   "cell_type": "markdown",
   "metadata": {},
   "source": [
    "## Controller Implementation"
   ]
  },
  {
   "cell_type": "code",
   "execution_count": 3,
   "metadata": {},
   "outputs": [],
   "source": [
    "class Controller(nn.Module):\n",
    "    def __init__(self, hidden_size):\n",
    "        super().__init__()\n",
    "        self.lstm = nn.LSTMCell(NUM_OPS, hidden_size)\n",
    "        self.linear = nn.Linear(hidden_size, NUM_OPS)\n",
    "\n",
    "    def forward(self, num_cells):\n",
    "        h, c = torch.zeros(1, self.lstm.hidden_size), torch.zeros(1, self.lstm.hidden_size)\n",
    "        actions = []\n",
    "        log_probs = []\n",
    "        for _ in range(num_cells):\n",
    "            x = torch.zeros(1, NUM_OPS)\n",
    "            h, c = self.lstm(x, (h, c))\n",
    "            logits = self.linear(h)\n",
    "            probs = torch.softmax(logits, dim=-1)\n",
    "            action = torch.multinomial(probs, 1).item()\n",
    "            actions.append(action)\n",
    "            log_probs.append(torch.log(probs[0, action]))\n",
    "        return actions, torch.stack(log_probs)"
   ]
  },
  {
   "cell_type": "markdown",
   "metadata": {},
   "source": [
    "## Training and Evaluation Functions"
   ]
  },
  {
   "cell_type": "code",
   "execution_count": 4,
   "metadata": {},
   "outputs": [],
   "source": [
    "def train_enas(shared_cnn, controller, train_data, val_data, num_epochs):\n",
    "    shared_optim = optim.Adam(shared_cnn.parameters(), lr=0.01)\n",
    "    controller_optim = optim.Adam(controller.parameters(), lr=0.001)\n",
    "\n",
    "    for epoch in range(num_epochs):\n",
    "        # Train shared parameters\n",
    "        shared_cnn.train()\n",
    "        for x, y in train_data:\n",
    "            actions, _ = controller(NUM_LAYERS)\n",
    "            shared_optim.zero_grad()\n",
    "            loss = nn.CrossEntropyLoss()(shared_cnn(x, actions), y)\n",
    "            loss.backward()\n",
    "            shared_optim.step()\n",
    "\n",
    "        # Evaluate architectures\n",
    "        shared_cnn.eval()\n",
    "        rewards = []\n",
    "        for _ in range(10):  # Sample 10 architectures\n",
    "            actions, log_probs = controller(NUM_LAYERS)\n",
    "            with torch.no_grad():\n",
    "                acc = evaluate(shared_cnn, actions, val_data)\n",
    "            rewards.append(acc)\n",
    "\n",
    "        # Update controller\n",
    "        reward = torch.tensor(rewards) - reward.mean()\n",
    "        controller_optim.zero_grad()\n",
    "        controller_loss = -(log_probs * reward).sum()\n",
    "        controller_loss.backward()\n",
    "        controller_optim.step()\n",
    "\n",
    "        print(f\"Epoch {epoch}, Avg Reward: {reward.mean().item():.4f}\")\n",
    "\n",
    "def evaluate(model, actions, data):\n",
    "    correct = 0\n",
    "    total = 0\n",
    "    for x, y in data:\n",
    "        with torch.no_grad():\n",
    "            outputs = model(x, actions)\n",
    "            _, predicted = outputs.max(1)\n",
    "            correct += (predicted == y).sum().item()\n",
    "            total += y.size(0)\n",
    "    return correct / total"
   ]
  },
  {
   "cell_type": "markdown",
   "metadata": {},
   "source": [
    "## Usage Example"
   ]
  },
  {
   "cell_type": "code",
   "execution_count": 5,
   "metadata": {},
   "outputs": [
    {
     "ename": "NameError",
     "evalue": "name 'train_data' is not defined",
     "output_type": "error",
     "traceback": [
      "\u001b[0;31m---------------------------------------------------------------------------\u001b[0m",
      "\u001b[0;31mNameError\u001b[0m                                 Traceback (most recent call last)",
      "Cell \u001b[0;32mIn[5], line 5\u001b[0m\n\u001b[1;32m      3\u001b[0m controller \u001b[38;5;241m=\u001b[39m Controller(\u001b[38;5;241m100\u001b[39m)\n\u001b[1;32m      4\u001b[0m \u001b[38;5;66;03m# Uncomment the following line to train\u001b[39;00m\n\u001b[0;32m----> 5\u001b[0m train_enas(shared_cnn, controller, \u001b[43mtrain_data\u001b[49m, val_data, num_epochs\u001b[38;5;241m=\u001b[39m\u001b[38;5;241m50\u001b[39m)\n",
      "\u001b[0;31mNameError\u001b[0m: name 'train_data' is not defined"
     ]
    }
   ],
   "source": [
    "# Assuming you have your data loaded as train_data and val_data\n",
    "shared_cnn = SharedCNN(3, 10)  # Assuming CIFAR-10\n",
    "controller = Controller(100)\n",
    "# Uncomment the following line to train\n",
    "train_enas(shared_cnn, controller, train_data, val_data, num_epochs=50)"
   ]
  }
 ],
 "metadata": {
  "kernelspec": {
   "display_name": "test",
   "language": "python",
   "name": "python3"
  },
  "language_info": {
   "codemirror_mode": {
    "name": "ipython",
    "version": 3
   },
   "file_extension": ".py",
   "mimetype": "text/x-python",
   "name": "python",
   "nbconvert_exporter": "python",
   "pygments_lexer": "ipython3",
   "version": "3.10.14"
  }
 },
 "nbformat": 4,
 "nbformat_minor": 2
}
