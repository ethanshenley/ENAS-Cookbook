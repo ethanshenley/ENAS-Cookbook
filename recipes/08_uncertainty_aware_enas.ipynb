{
 "cells": [
  {
   "cell_type": "markdown",
   "metadata": {},
   "source": [
    "# Recipe 8: Uncertainty-Aware ENAS\n",
    "\n",
    "This notebook implements uncertainty-aware ENAS, which considers the uncertainty in architecture evaluation.\n",
    "\n",
    "## Imports and Setup"
   ]
  },
  {
   "cell_type": "code",
   "execution_count": 1,
   "metadata": {},
   "outputs": [],
   "source": [
    "import torch\n",
    "import torch.nn as nn\n",
    "import torch.optim as optim\n",
    "import torch.distributions as dist\n",
    "import numpy as np\n",
    "\n",
    "# Set random seed for reproducibility\n",
    "torch.manual_seed(42)\n",
    "np.random.seed(42)\n",
    "\n",
    "# Define constants\n",
    "NUM_OPS = 5\n",
    "NUM_NODES = 4"
   ]
  },
  {
   "cell_type": "markdown",
   "metadata": {},
   "source": [
    "## Uncertainty-Aware Controller"
   ]
  },
  {
   "cell_type": "code",
   "execution_count": 2,
   "metadata": {},
   "outputs": [],
   "source": [
    "class UncertaintyAwareController(nn.Module):\n",
    "    def __init__(self, hidden_size):\n",
    "        super().__init__()\n",
    "        self.lstm = nn.LSTMCell(NUM_OPS, hidden_size)\n",
    "        self.actor = nn.Linear(hidden_size, NUM_OPS)\n",
    "        self.critic_mean = nn.Linear(hidden_size, 1)\n",
    "        self.critic_std = nn.Linear(hidden_size, 1)\n",
    "\n",
    "    def forward(self, num_cells):\n",
    "        h, c = torch.zeros(1, self.lstm.hidden_size), torch.zeros(1, self.lstm.hidden_size)\n",
    "        actions = []\n",
    "        log_probs = []\n",
    "        value_dists = []\n",
    "        for _ in range(num_cells):\n",
    "            cell_actions = []\n",
    "            for _ in range(NUM_NODES * 3):\n",
    "                x = torch.zeros(1, NUM_OPS)\n",
    "                h, c = self.lstm(x, (h, c))\n",
    "                logits = self.actor(h)\n",
    "                probs = torch.softmax(logits, dim=-1)\n",
    "                action = torch.multinomial(probs, 1).item()\n",
    "                cell_actions.append(action)\n",
    "                log_probs.append(torch.log(probs[0, action]))\n",
    "                mean = self.critic_mean(h)\n",
    "                std = torch.exp(self.critic_std(h))\n",
    "                value_dists.append(dist.Normal(mean, std))\n",
    "            actions.append(cell_actions)\n",
    "        return actions, torch.stack(log_probs), value_dists\n",
    "\n",
    "class Cell(nn.Module):\n",
    "    def __init__(self, C):\n",
    "        super().__init__()\n",
    "        self.nodes = nn.ModuleList([MixedOp(C) for _ in range(NUM_NODES)])\n",
    "\n",
    "    def forward(self, x, actions):\n",
    "        states = [x]\n",
    "        for node, (op1, op2, combine) in zip(self.nodes, actions):\n",
    "            s1 = node(states[op1], combine[0])\n",
    "            s2 = node(states[op2], combine[1])\n",
    "            states.append(s1 + s2)\n",
    "        return states[-1]\n",
    "\n",
    "class Network(nn.Module):\n",
    "    def __init__(self, C, num_classes, num_cells):\n",
    "        super().__init__()\n",
    "        self.stem = nn.Conv2d(3, C, 3, padding=1)\n",
    "        self.cells = nn.ModuleList([Cell(C) for _ in range(num_cells)])\n",
    "        self.classifier = nn.Linear(C, num_classes)\n",
    "\n",
    "    def forward(self, x, actions):\n",
    "        x = self.stem(x)\n",
    "        for cell, cell_action in zip(self.cells, actions):\n",
    "            x = cell(x, cell_action)\n",
    "        x = x.mean([2, 3])\n",
    "        return self.classifier(x)"
   ]
  },
  {
   "cell_type": "markdown",
   "metadata": {},
   "source": [
    "## Uncertainty-Aware Training Function"
   ]
  },
  {
   "cell_type": "code",
   "execution_count": 3,
   "metadata": {},
   "outputs": [],
   "source": [
    "def train_uncertainty_aware_enas(network, controller, train_data, val_data, num_epochs):\n",
    "    network_optim = optim.Adam(network.parameters(), lr=0.01)\n",
    "    controller_optim = optim.Adam(controller.parameters(), lr=0.001)\n",
    "\n",
    "    for epoch in range(num_epochs):\n",
    "        # Train shared parameters\n",
    "        network.train()\n",
    "        for x, y in train_data:\n",
    "            actions, _, _ = controller(len(network.cells))\n",
    "            network_optim.zero_grad()\n",
    "            loss = nn.CrossEntropyLoss()(network(x, actions), y)\n",
    "            loss.backward()\n",
    "            network_optim.step()\n",
    "\n",
    "        # Evaluate architectures\n",
    "        network.eval()\n",
    "        rewards = []\n",
    "        log_probs_list = []\n",
    "        value_dists_list = []\n",
    "        for _ in range(10):  # Sample 10 architectures\n",
    "            actions, log_probs, value_dists = controller(len(network.cells))\n",
    "            with torch.no_grad():\n",
    "                acc = evaluate(network, actions, val_data)\n",
    "            rewards.append(acc)\n",
    "            log_probs_list.append(log_probs)\n",
    "            value_dists_list.append(value_dists)\n",
    "\n",
    "        # Update controller\n",
    "        rewards = torch.tensor(rewards)\n",
    "        log_probs = torch.cat(log_probs_list)\n",
    "        \n",
    "        controller_optim.zero_grad()\n",
    "        actor_loss = 0\n",
    "        critic_loss = 0\n",
    "        for r, lp, vd in zip(rewards, log_probs_list, value_dists_list):\n",
    "            advantage = r - vd[0].mean\n",
    "            actor_loss -= lp * advantage.detach()\n",
    "            critic_loss -= vd[0].log_prob(r)\n",
    "        \n",
    "        loss = actor_loss.mean() + 0.5 * critic_loss.mean()\n",
    "        loss.backward()\n",
    "        controller_optim.step()\n",
    "\n",
    "        print(f\"Epoch {epoch}, Avg Reward: {rewards.mean().item():.4f}\")\n",
    "\n",
    "def evaluate(model, actions, data):\n",
    "    correct = 0\n",
    "    total = 0\n",
    "    for x, y in data:\n",
    "        with torch.no_grad():\n",
    "            outputs = model(x, actions)\n",
    "            _, predicted = outputs.max(1)\n",
    "            correct += (predicted == y).sum().item()\n",
    "            total += y.size(0)\n",
    "    return correct / total"
   ]
  },
  {
   "cell_type": "markdown",
   "metadata": {},
   "source": [
    "## Usage Example"
   ]
  },
  {
   "cell_type": "code",
   "execution_count": null,
   "metadata": {},
   "outputs": [],
   "source": [
    "# Assuming you have your data loaded as train_data and val_data\n",
    "network = Network(16, 10, 8)  # 16 channels, 10 classes, 8 cells\n",
    "controller = UncertaintyAwareController(100)\n",
    "# Uncomment the following line to train\n",
    "# train_uncertainty_aware_enas(network, controller, train_data, val_data, num_epochs=50)"
   ]
  }
 ],
 "metadata": {
  "kernelspec": {
   "display_name": "test",
   "language": "python",
   "name": "python3"
  },
  "language_info": {
   "codemirror_mode": {
    "name": "ipython",
    "version": 3
   },
   "file_extension": ".py",
   "mimetype": "text/x-python",
   "name": "python",
   "nbconvert_exporter": "python",
   "pygments_lexer": "ipython3",
   "version": "3.10.14"
  }
 },
 "nbformat": 4,
 "nbformat_minor": 2
}
